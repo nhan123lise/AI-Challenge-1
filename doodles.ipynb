{
  "nbformat": 4,
  "nbformat_minor": 0,
  "metadata": {
    "colab": {
      "name": "doodles.ipynb",
      "provenance": [],
      "collapsed_sections": []
    },
    "kernelspec": {
      "name": "python3",
      "display_name": "Python 3"
    },
    "language_info": {
      "name": "python"
    }
  },
  "cells": [
    {
      "cell_type": "code",
      "execution_count": 142,
      "metadata": {
        "colab": {
          "base_uri": "https://localhost:8080/"
        },
        "id": "fkh9IssNBYRY",
        "outputId": "0a30b93c-f9ea-452f-8221-25c06aa02ae8"
      },
      "outputs": [
        {
          "output_type": "stream",
          "name": "stdout",
          "text": [
            "Drive already mounted at /content/gdrive/; to attempt to forcibly remount, call drive.mount(\"/content/gdrive/\", force_remount=True).\n"
          ]
        }
      ],
      "source": [
        "from google.colab import drive\n",
        "drive.mount('/content/gdrive/')"
      ]
    },
    {
      "cell_type": "code",
      "source": [
        "cd gdrive/MyDrive/AI\\ Challenge\\ 1\\ -\\ 2021\n"
      ],
      "metadata": {
        "colab": {
          "base_uri": "https://localhost:8080/"
        },
        "id": "B22-8YGFBhLd",
        "outputId": "c302fd20-bff8-4aac-a105-c2a510f61555"
      },
      "execution_count": 143,
      "outputs": [
        {
          "output_type": "stream",
          "name": "stdout",
          "text": [
            "[Errno 2] No such file or directory: 'gdrive/MyDrive/AI Challenge 1 - 2021'\n",
            "/content/gdrive/MyDrive/AI Challenge 1 - 2021\n"
          ]
        }
      ]
    },
    {
      "cell_type": "code",
      "source": [
        "!wget https://storage.googleapis.com/quickdraw_dataset/full/numpy_bitmap/car.npy\n",
        "!wget https://storage.googleapis.com/quickdraw_dataset/full/numpy_bitmap/bird.npy\n",
        "!wget https://storage.googleapis.com/quickdraw_dataset/full/numpy_bitmap/bucket.npy\n",
        "!wget https://storage.googleapis.com/quickdraw_dataset/full/numpy_bitmap/clock.npy\n"
      ],
      "metadata": {
        "colab": {
          "base_uri": "https://localhost:8080/"
        },
        "id": "SXi7WVyxHMMy",
        "outputId": "325754cf-7664-495f-bab6-7bbb2c94c600"
      },
      "execution_count": 144,
      "outputs": [
        {
          "output_type": "stream",
          "name": "stdout",
          "text": [
            "--2021-12-15 13:46:40--  https://storage.googleapis.com/quickdraw_dataset/full/numpy_bitmap/car.npy\n",
            "Resolving storage.googleapis.com (storage.googleapis.com)... 173.194.213.128, 173.194.215.128, 108.177.12.128, ...\n",
            "Connecting to storage.googleapis.com (storage.googleapis.com)|173.194.213.128|:443... connected.\n",
            "HTTP request sent, awaiting response... 200 OK\n",
            "Length: 143287056 (137M) [application/octet-stream]\n",
            "Saving to: ‘car.npy.10’\n",
            "\n",
            "car.npy.10          100%[===================>] 136.65M  53.9MB/s    in 2.5s    \n",
            "\n",
            "2021-12-15 13:46:43 (53.9 MB/s) - ‘car.npy.10’ saved [143287056/143287056]\n",
            "\n",
            "--2021-12-15 13:46:43--  https://storage.googleapis.com/quickdraw_dataset/full/numpy_bitmap/bird.npy\n",
            "Resolving storage.googleapis.com (storage.googleapis.com)... 173.194.218.128, 64.233.170.128, 108.177.11.128, ...\n",
            "Connecting to storage.googleapis.com (storage.googleapis.com)|173.194.218.128|:443... connected.\n",
            "HTTP request sent, awaiting response... 200 OK\n",
            "Length: 104720528 (100M) [application/octet-stream]\n",
            "Saving to: ‘bird.npy.10’\n",
            "\n",
            "bird.npy.10         100%[===================>]  99.87M  41.7MB/s    in 2.4s    \n",
            "\n",
            "2021-12-15 13:46:46 (41.7 MB/s) - ‘bird.npy.10’ saved [104720528/104720528]\n",
            "\n",
            "--2021-12-15 13:46:46--  https://storage.googleapis.com/quickdraw_dataset/full/numpy_bitmap/bucket.npy\n",
            "Resolving storage.googleapis.com (storage.googleapis.com)... 172.217.203.128, 142.250.98.128, 142.250.97.128, ...\n",
            "Connecting to storage.googleapis.com (storage.googleapis.com)|172.217.203.128|:443... connected.\n",
            "HTTP request sent, awaiting response... 200 OK\n",
            "Length: 97266256 (93M) [application/octet-stream]\n",
            "Saving to: ‘bucket.npy.10’\n",
            "\n",
            "bucket.npy.10       100%[===================>]  92.76M  35.0MB/s    in 2.6s    \n",
            "\n",
            "2021-12-15 13:46:48 (35.0 MB/s) - ‘bucket.npy.10’ saved [97266256/97266256]\n",
            "\n",
            "--2021-12-15 13:46:49--  https://storage.googleapis.com/quickdraw_dataset/full/numpy_bitmap/clock.npy\n",
            "Resolving storage.googleapis.com (storage.googleapis.com)... 74.125.26.128, 172.217.193.128, 172.217.204.128, ...\n",
            "Connecting to storage.googleapis.com (storage.googleapis.com)|74.125.26.128|:443... connected.\n",
            "HTTP request sent, awaiting response... 200 OK\n",
            "Length: 94500304 (90M) [application/octet-stream]\n",
            "Saving to: ‘clock.npy.10’\n",
            "\n",
            "clock.npy.10        100%[===================>]  90.12M  35.4MB/s    in 2.5s    \n",
            "\n",
            "2021-12-15 13:46:51 (35.4 MB/s) - ‘clock.npy.10’ saved [94500304/94500304]\n",
            "\n"
          ]
        }
      ]
    },
    {
      "cell_type": "code",
      "source": [
        "import urllib.request\n",
        "!mkdir data\n",
        "base = 'https://storage.googleapis.com/quickdraw_dataset/full/numpy_bitmap/'\n",
        "root = 'data'\n",
        "class_names = ['car', 'bird', 'bucket', 'clock']\n",
        "for c in class_names:\n",
        "    path = base+c+'.npy'\n",
        "    print(path)\n",
        "    urllib.request.urlretrieve(path, f'{root}/{c}.npy')"
      ],
      "metadata": {
        "colab": {
          "base_uri": "https://localhost:8080/"
        },
        "id": "C1l4_vrrJ1Xg",
        "outputId": "6996ad72-fe8b-4bb1-a704-19eefcd44752"
      },
      "execution_count": 145,
      "outputs": [
        {
          "output_type": "stream",
          "name": "stdout",
          "text": [
            "mkdir: cannot create directory ‘data’: File exists\n",
            "https://storage.googleapis.com/quickdraw_dataset/full/numpy_bitmap/car.npy\n",
            "https://storage.googleapis.com/quickdraw_dataset/full/numpy_bitmap/bird.npy\n",
            "https://storage.googleapis.com/quickdraw_dataset/full/numpy_bitmap/bucket.npy\n",
            "https://storage.googleapis.com/quickdraw_dataset/full/numpy_bitmap/clock.npy\n"
          ]
        }
      ]
    },
    {
      "cell_type": "code",
      "source": [
        "from sklearn.model_selection import train_test_split as tts\n",
        "from keras.models import Sequential\n",
        "from keras.layers import Dense, Dropout, Conv2D, MaxPooling2D, Flatten\n",
        "from keras.utils import np_utils\n",
        "from random import randint\n",
        "import numpy as np\n",
        "import os\n",
        "from PIL import Image"
      ],
      "metadata": {
        "id": "arhnL8IIK0ot"
      },
      "execution_count": 146,
      "outputs": []
    },
    {
      "cell_type": "code",
      "source": [
        "N_OBJS = 4\n",
        "OBJS = {0: \"car\", 1: \"bird\", 2: \"bucket\", 3: \"clock\"}\n",
        "\n",
        "# number of samples to take in each class\n",
        "N = 5000\n",
        "\n",
        "# some other constants\n",
        "N_EPOCHS = 10\n",
        "\n",
        "# data files with orders like OBJS\n",
        "files = [\"car.npy\", \"bird.npy\", \"bucket.npy\", \"clock.npy\"]"
      ],
      "metadata": {
        "id": "RWKDVjV_NZn5"
      },
      "execution_count": 147,
      "outputs": []
    },
    {
      "cell_type": "code",
      "source": [
        "def load(dir, reshaped, files):\n",
        "    \"Load .npy or .npz files from disk and return them as numpy arrays. \\\n",
        "    Takes in a list of filenames and returns a list of numpy arrays.\"\n",
        "\n",
        "    data = []\n",
        "    for file in files:\n",
        "        f = np.load(dir + file)\n",
        "        if reshaped:\n",
        "            new_f = []\n",
        "            for i in range(len(f)):\n",
        "                x = np.reshape(f[i], (28, 28))\n",
        "                x = np.expand_dims(x, axis=0)\n",
        "                x = np.reshape(f[i], (28, 28, 1))\n",
        "                new_f.append(x)\n",
        "            f = new_f\n",
        "        data.append(f)\n",
        "    return data\n",
        "\n",
        "\n",
        "def normalize(data):\n",
        "    \"Takes a list or a list of lists and returns its normalized form\"\n",
        "\n",
        "    return np.interp(data, [0, 255], [-1, 1])\n",
        "\n",
        "\n",
        "def denormalize(data):\n",
        "    \"Takes a list or a list of lists and returns its denormalized form\"\n",
        "\n",
        "    return np.interp(data, [-1, 1], [0, 255])\n",
        "\n",
        "\n",
        "def visualize(array):\n",
        "    \"Visulaze a 2D array as an Image\"\n",
        "    array = np.reshape(array, (28,28))\n",
        "    img = Image.fromarray(array)\n",
        "    return img\n",
        "\n",
        "\n",
        "def set_limit(arrays, n):\n",
        "    \"Limit elements from each array up to n elements and return a single list\"\n",
        "    new = []\n",
        "    for array in arrays:\n",
        "        i = 0\n",
        "        for item in array:\n",
        "            if i == n:\n",
        "                break\n",
        "            new.append(item)\n",
        "            i += 1\n",
        "    return new\n",
        "\n",
        "\n",
        "def make_labels(N1, N2):\n",
        "    \"make labels from 0 to N1, each repeated N2 times\"\n",
        "    labels = []\n",
        "    for i in range(N1):\n",
        "        labels += [i] * N2\n",
        "    return labels"
      ],
      "metadata": {
        "id": "Enb2pASUCIkD"
      },
      "execution_count": 149,
      "outputs": []
    },
    {
      "cell_type": "code",
      "source": [
        "objs = load(\"data/\", False, ['car.npy'])"
      ],
      "metadata": {
        "id": "zQ6wbm6_GHXm"
      },
      "execution_count": 150,
      "outputs": []
    },
    {
      "cell_type": "code",
      "source": [
        "visualize(objs[0][90])"
      ],
      "metadata": {
        "id": "zhCBJs2AGM9a",
        "colab": {
          "base_uri": "https://localhost:8080/",
          "height": 45
        },
        "outputId": "05ca5a98-7171-4fc2-d06e-24d84fc60f35"
      },
      "execution_count": 151,
      "outputs": [
        {
          "output_type": "execute_result",
          "data": {
            "image/png": "[encoded data removed]",
            "text/plain": [
              "<PIL.Image.Image image mode=L size=28x28 at 0x7F0F1F739610>"
            ]
          },
          "metadata": {},
          "execution_count": 151
        }
      ]
    },
    {
      "cell_type": "code",
      "source": [
        "objs = load(\"data/\", True, files)\n"
      ],
      "metadata": {
        "id": "6lwgsfbYGP7L"
      },
      "execution_count": 152,
      "outputs": []
    },
    {
      "cell_type": "code",
      "source": [
        "objs = map(normalize, objs)\n"
      ],
      "metadata": {
        "id": "Szw9boScGYzn"
      },
      "execution_count": 153,
      "outputs": []
    },
    {
      "cell_type": "code",
      "source": [
        "labels = make_labels(4, N)\n"
      ],
      "metadata": {
        "id": "YssSPSH3GifB"
      },
      "execution_count": 154,
      "outputs": []
    },
    {
      "cell_type": "code",
      "source": [
        "Y_train = np_utils.to_categorical(y_train, 4)\n",
        "Y_test = np_utils.to_categorical(y_test, 4)\n"
      ],
      "metadata": {
        "id": "hUHurCo2Gpme"
      },
      "execution_count": 155,
      "outputs": []
    },
    {
      "cell_type": "code",
      "source": [
        "y_train.shape\n",
        "x_train.shape"
      ],
      "metadata": {
        "id": "Lp5Oe9wHNjca",
        "colab": {
          "base_uri": "https://localhost:8080/"
        },
        "outputId": "bc4d9bdc-ec7a-4a35-ea37-121575e1a444"
      },
      "execution_count": 156,
      "outputs": [
        {
          "output_type": "execute_result",
          "data": {
            "text/plain": [
              "(32000, 28, 28)"
            ]
          },
          "metadata": {},
          "execution_count": 156
        }
      ]
    },
    {
      "cell_type": "code",
      "source": [
        "model = Sequential()\n",
        "model.add(Conv2D(32, kernel_size=(3, 3), activation='relu', input_shape=(28,28,1)))\n",
        "model.add(Conv2D(32, (3, 3), activation='relu'))\n",
        "model.add(MaxPooling2D(pool_size=(2, 2)))\n",
        "model.add(Dropout(0.25))\n",
        "model.add(Flatten())\n",
        "model.add(Dense(128, activation='relu'))\n",
        "model.add(Dropout(0.5))\n",
        "model.add(Dense(4, activation='softmax'))\n",
        "\n"
      ],
      "metadata": {
        "id": "mQ2rO4esGtbE"
      },
      "execution_count": 157,
      "outputs": []
    },
    {
      "cell_type": "code",
      "source": [
        "model.compile(loss='categorical_crossentropy',\n",
        "              optimizer='adam',\n",
        "              metrics=['accuracy'])\n",
        "\n",
        "\n",
        "# train\n",
        "model.fit(np.array(x_train), np.array(Y_train), batch_size=32, epochs=10)\n",
        "\n",
        "print(\"Training complete\")\n",
        "\n",
        "print(\"Evaluating model\")\n",
        "preds = model.predict(np.array(x_test))\n",
        "\n",
        "score = 0\n",
        "for i in range(len(preds)):\n",
        "    if np.argmax(preds[i]) == y_test[i]:\n",
        "        score += 1\n",
        "\n",
        "print (\"Accuracy: \", ((score + 0.0) / len(preds)) * 100)\n",
        "\n",
        "\n",
        "model.save(\"objects\"+ \".h5\")\n",
        "print(\"Model saved\")"
      ],
      "metadata": {
        "id": "La9UIrGYGz6m",
        "colab": {
          "base_uri": "https://localhost:8080/"
        },
        "outputId": "7b4df88c-ff6b-46ed-b8ae-aa50a9989e5d"
      },
      "execution_count": 158,
      "outputs": [
        {
          "output_type": "stream",
          "name": "stdout",
          "text": [
            "Epoch 1/10\n",
            "1000/1000 [==============================] - 56s 55ms/step - loss: 0.4913 - accuracy: 0.9057\n",
            "Epoch 2/10\n",
            "1000/1000 [==============================] - 55s 55ms/step - loss: 0.1697 - accuracy: 0.9482\n",
            "Epoch 3/10\n",
            "1000/1000 [==============================] - 54s 54ms/step - loss: 0.1387 - accuracy: 0.9577\n",
            "Epoch 4/10\n",
            "1000/1000 [==============================] - 54s 54ms/step - loss: 0.1265 - accuracy: 0.9623\n",
            "Epoch 5/10\n",
            "1000/1000 [==============================] - 54s 54ms/step - loss: 0.1100 - accuracy: 0.9649\n",
            "Epoch 6/10\n",
            "1000/1000 [==============================] - 54s 54ms/step - loss: 0.1003 - accuracy: 0.9673\n",
            "Epoch 7/10\n",
            "1000/1000 [==============================] - 54s 54ms/step - loss: 0.0885 - accuracy: 0.9729\n",
            "Epoch 8/10\n",
            "1000/1000 [==============================] - 54s 54ms/step - loss: 0.0877 - accuracy: 0.9726\n",
            "Epoch 9/10\n",
            "1000/1000 [==============================] - 53s 53ms/step - loss: 0.0810 - accuracy: 0.9746\n",
            "Epoch 10/10\n",
            "1000/1000 [==============================] - 53s 53ms/step - loss: 0.0753 - accuracy: 0.9770\n",
            "Training complete\n",
            "Evaluating model\n",
            "Accuracy:  97.3875\n",
            "Model saved\n"
          ]
        }
      ]
    },
    {
      "cell_type": "code",
      "source": [
        ""
      ],
      "metadata": {
        "id": "dPNepTIuHQyU"
      },
      "execution_count": 158,
      "outputs": []
    }
  ]
}